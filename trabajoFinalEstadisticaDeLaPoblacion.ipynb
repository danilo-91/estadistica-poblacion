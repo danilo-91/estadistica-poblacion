{
 "cells": [
  {
   "cell_type": "markdown",
   "id": "36d1dc9b",
   "metadata": {},
   "source": [
    "# Trabajo Final\n",
    "## Estadística de la población\n",
    "---\n",
    "\n",
    "### Docente:\n",
    "### Estudiantes: Tricarico Federico, Ise Daniel"
   ]
  },
  {
   "cell_type": "markdown",
   "id": "8f4444b5",
   "metadata": {},
   "source": [
    "## Introducción\n",
    "\n",
    "El presente informe muestra los resultados a los que llegamos a partir del empleo de métodos estadísticos y la reflexión propia sobre la base de datos de Indec. En particular, consideramos el último período de tiempo disponible [online](https://www.indec.gob.ar/indec/web/Institucional-Indec-BasesDeDatos): el cuarto trimestre de 2021.\n",
    "\n",
    "Sobre esa base de datos, usando herramientas de código abierto como Python, pudimos hacer diferentes análisis estadísticos. Tratamos, en particular, de seleccionar diferentes conjuntos de variables, para tratar de poner a prueba algunas hipótesis que muestran tanto las posibilidad que ofrecen las herramientas estadísticas para el tratamiento de estos problemas, así como la potencialidad que subyace en herramientas de código abierto, como son Python y sus diferentes módulos.\n",
    "\n",
    "El trabajo emplea algunos de los procesamientos vistos en la materia recurriendo a la base de datos mencionada. Parte por la selección de las variables a considerar, se muestran sus tablas de frecuencia y se realizan algunos gráficos sobre sus resultados. Así mismo, se calculan las medidas de tendencia central pertinentes a las diferentes variables. \n",
    "\n",
    "Esbozando algunas hipótesis que vinculan las relaciones entre ingreso laboral por hora trabajada y la variable sexo, se trata de hacer algunos test de significación entre las dos variables, construyendo tanto una hipótesis como una hipótesis nula. Asímismo, se elabora una correlación bivariada y se aplica un análisis de regresión lineal entre las diferentes variables consideradas."
   ]
  },
  {
   "cell_type": "markdown",
   "id": "a23fb162",
   "metadata": {},
   "source": [
    "### Actividades:\n",
    "\n",
    "* ~~Elegir una base de datos~~\n",
    "* ~~Seleccionar dos variables~~\n",
    "* ~~Construir tablas de frecuencia~~\n",
    "* ~~Graficar~~\n",
    "* Calcular medidas de tendencia central\n",
    "* Aplicar test de significación entre dos variables establecidas (con hipótesis e hipótesis nula)\n",
    "* Elaborar correlación bivariada\n",
    "* Aplicar Regresión lineal\n",
    "\n",
    "#### Base de datos:\n",
    "\n",
    "https://www.indec.gob.ar/ftp/cuadros/menusuperior/eph/EPH_usu_4_Trim_2021_xls.zip\n",
    "\n",
    "#### Variables seleccionadas:\n",
    "\n",
    "* Ingreso laboral (P21)\n",
    "* Ingreso total individual (P47T)\n",
    "* Horas trabajadas (PP3E_TOT)\n",
    "* Sexo (CH04)\n",
    "* Edad (posible) (CH06)\n",
    "\n",
    "#### Indicadores a construir:\n",
    "Ingreso laboral según sexo\n",
    "Ingreso laboral por hora trabajada\n",
    "Ingreso laboral por hora trabajada según sexo\n",
    "(¿Horas trabajadas según nivel de instrucción?\n",
    "\n",
    "#### Tipos de variable: \n",
    "\n",
    "* Contínuas: Ingreso Laboral, Ingreso Total Individual, Horas trabajadas\n",
    "\n",
    "* Cualitativas nominales: Sexo\n",
    "\n",
    "Tabla de frecuencia por intervalo para las contínuas (salvo que las horas se registren discretas).\n",
    "Tabla de frecuencia para sexo (quizá horas también).\n",
    "\n",
    "Gráficos de barra para la representación gráfica de las frecuencias e interpretación. (Las contínuas invitan a hacer histogramas).\n",
    "\n",
    "Medidas de tendencia central para ingreso. Tiene sentido dividir en deciles esta variable.\n",
    "\n",
    "¿Qué es test de significación? ¿Cómo se calcula?\n",
    "\n",
    "Hacer la correlación y regresión lineal."
   ]
  },
  {
   "cell_type": "markdown",
   "id": "59e4d388",
   "metadata": {},
   "source": [
    "Para iniciar el trabajo, primero hay que traer las librerías que vamos a utilizar tanto para leer los datos como para hacer el análisis. Estas librerías son: `numpy`, `pandas` y `matplotlib`."
   ]
  },
  {
   "cell_type": "code",
   "execution_count": 2,
   "id": "73d09e81",
   "metadata": {},
   "outputs": [],
   "source": [
    "import numpy as np\n",
    "import pandas as pd\n",
    "import matplotlib.pyplot as plt\n",
    "import seaborn as sns\n",
    "\n",
    "sns.set(rc={'figure.figsize':(16,6)})"
   ]
  },
  {
   "cell_type": "markdown",
   "id": "de427f91",
   "metadata": {},
   "source": [
    "Una vez incorporadas las librerías que se van a utilizar en el análisis y representación gráfica, se procede a leer los datos desde un archivo `.csv`, ubicado en la carpeta data. Este archivo se lee con la función `pd.read_csv()`."
   ]
  },
  {
   "cell_type": "code",
   "execution_count": 3,
   "id": "691e49a0",
   "metadata": {},
   "outputs": [
    {
     "data": {
      "text/html": [
       "<div>\n",
       "<style scoped>\n",
       "    .dataframe tbody tr th:only-of-type {\n",
       "        vertical-align: middle;\n",
       "    }\n",
       "\n",
       "    .dataframe tbody tr th {\n",
       "        vertical-align: top;\n",
       "    }\n",
       "\n",
       "    .dataframe thead th {\n",
       "        text-align: right;\n",
       "    }\n",
       "</style>\n",
       "<table border=\"1\" class=\"dataframe\">\n",
       "  <thead>\n",
       "    <tr style=\"text-align: right;\">\n",
       "      <th></th>\n",
       "      <th>CODUSU</th>\n",
       "      <th>ANO4</th>\n",
       "      <th>TRIMESTRE</th>\n",
       "      <th>NRO_HOGAR</th>\n",
       "      <th>COMPONENTE</th>\n",
       "      <th>H15</th>\n",
       "      <th>REGION</th>\n",
       "      <th>MAS_500</th>\n",
       "      <th>AGLOMERADO</th>\n",
       "      <th>PONDERA</th>\n",
       "      <th>...</th>\n",
       "      <th>PDECIFR</th>\n",
       "      <th>ADECIFR</th>\n",
       "      <th>IPCF</th>\n",
       "      <th>DECCFR</th>\n",
       "      <th>IDECCFR</th>\n",
       "      <th>RDECCFR</th>\n",
       "      <th>GDECCFR</th>\n",
       "      <th>PDECCFR</th>\n",
       "      <th>ADECCFR</th>\n",
       "      <th>PONDIH</th>\n",
       "    </tr>\n",
       "  </thead>\n",
       "  <tbody>\n",
       "    <tr>\n",
       "      <th>0</th>\n",
       "      <td>TQRMNOPPQHMOLPCDEGNFJ00714305</td>\n",
       "      <td>2021</td>\n",
       "      <td>4</td>\n",
       "      <td>1</td>\n",
       "      <td>4</td>\n",
       "      <td>1</td>\n",
       "      <td>44</td>\n",
       "      <td>N</td>\n",
       "      <td>17</td>\n",
       "      <td>309</td>\n",
       "      <td>...</td>\n",
       "      <td>9.0</td>\n",
       "      <td>7</td>\n",
       "      <td>33500</td>\n",
       "      <td>6</td>\n",
       "      <td>7.0</td>\n",
       "      <td>5</td>\n",
       "      <td>NaN</td>\n",
       "      <td>7.0</td>\n",
       "      <td>5</td>\n",
       "      <td>411</td>\n",
       "    </tr>\n",
       "    <tr>\n",
       "      <th>1</th>\n",
       "      <td>TQRMNOQPYHKMPUCDEIJAH00663642</td>\n",
       "      <td>2021</td>\n",
       "      <td>4</td>\n",
       "      <td>1</td>\n",
       "      <td>1</td>\n",
       "      <td>1</td>\n",
       "      <td>1</td>\n",
       "      <td>S</td>\n",
       "      <td>33</td>\n",
       "      <td>1573</td>\n",
       "      <td>...</td>\n",
       "      <td>NaN</td>\n",
       "      <td>4</td>\n",
       "      <td>32000</td>\n",
       "      <td>6</td>\n",
       "      <td>NaN</td>\n",
       "      <td>6</td>\n",
       "      <td>6.0</td>\n",
       "      <td>NaN</td>\n",
       "      <td>6</td>\n",
       "      <td>2285</td>\n",
       "    </tr>\n",
       "    <tr>\n",
       "      <th>2</th>\n",
       "      <td>TQRMNOQPYHKMPUCDEIJAH00663642</td>\n",
       "      <td>2021</td>\n",
       "      <td>4</td>\n",
       "      <td>1</td>\n",
       "      <td>2</td>\n",
       "      <td>1</td>\n",
       "      <td>1</td>\n",
       "      <td>S</td>\n",
       "      <td>33</td>\n",
       "      <td>1573</td>\n",
       "      <td>...</td>\n",
       "      <td>NaN</td>\n",
       "      <td>4</td>\n",
       "      <td>32000</td>\n",
       "      <td>6</td>\n",
       "      <td>NaN</td>\n",
       "      <td>6</td>\n",
       "      <td>6.0</td>\n",
       "      <td>NaN</td>\n",
       "      <td>6</td>\n",
       "      <td>2285</td>\n",
       "    </tr>\n",
       "    <tr>\n",
       "      <th>3</th>\n",
       "      <td>TQRMNOQYRHMOQRCDEIJAH00718661</td>\n",
       "      <td>2021</td>\n",
       "      <td>4</td>\n",
       "      <td>1</td>\n",
       "      <td>1</td>\n",
       "      <td>1</td>\n",
       "      <td>1</td>\n",
       "      <td>S</td>\n",
       "      <td>33</td>\n",
       "      <td>2635</td>\n",
       "      <td>...</td>\n",
       "      <td>NaN</td>\n",
       "      <td>12</td>\n",
       "      <td>0</td>\n",
       "      <td>12</td>\n",
       "      <td>NaN</td>\n",
       "      <td>12</td>\n",
       "      <td>12.0</td>\n",
       "      <td>NaN</td>\n",
       "      <td>12</td>\n",
       "      <td>0</td>\n",
       "    </tr>\n",
       "    <tr>\n",
       "      <th>4</th>\n",
       "      <td>TQRMNOPSTHMMLPCDEFMDB00713515</td>\n",
       "      <td>2021</td>\n",
       "      <td>4</td>\n",
       "      <td>1</td>\n",
       "      <td>2</td>\n",
       "      <td>1</td>\n",
       "      <td>43</td>\n",
       "      <td>N</td>\n",
       "      <td>6</td>\n",
       "      <td>87</td>\n",
       "      <td>...</td>\n",
       "      <td>7.0</td>\n",
       "      <td>7</td>\n",
       "      <td>43000</td>\n",
       "      <td>7</td>\n",
       "      <td>8.0</td>\n",
       "      <td>8</td>\n",
       "      <td>NaN</td>\n",
       "      <td>8.0</td>\n",
       "      <td>8</td>\n",
       "      <td>129</td>\n",
       "    </tr>\n",
       "  </tbody>\n",
       "</table>\n",
       "<p>5 rows × 177 columns</p>\n",
       "</div>"
      ],
      "text/plain": [
       "                          CODUSU  ANO4  TRIMESTRE  NRO_HOGAR  COMPONENTE  H15  \\\n",
       "0  TQRMNOPPQHMOLPCDEGNFJ00714305  2021          4          1           4    1   \n",
       "1  TQRMNOQPYHKMPUCDEIJAH00663642  2021          4          1           1    1   \n",
       "2  TQRMNOQPYHKMPUCDEIJAH00663642  2021          4          1           2    1   \n",
       "3  TQRMNOQYRHMOQRCDEIJAH00718661  2021          4          1           1    1   \n",
       "4  TQRMNOPSTHMMLPCDEFMDB00713515  2021          4          1           2    1   \n",
       "\n",
       "   REGION MAS_500  AGLOMERADO  PONDERA  ...  PDECIFR  ADECIFR   IPCF  DECCFR  \\\n",
       "0      44       N          17      309  ...      9.0        7  33500       6   \n",
       "1       1       S          33     1573  ...      NaN        4  32000       6   \n",
       "2       1       S          33     1573  ...      NaN        4  32000       6   \n",
       "3       1       S          33     2635  ...      NaN       12      0      12   \n",
       "4      43       N           6       87  ...      7.0        7  43000       7   \n",
       "\n",
       "   IDECCFR  RDECCFR  GDECCFR  PDECCFR  ADECCFR  PONDIH  \n",
       "0      7.0        5      NaN      7.0        5     411  \n",
       "1      NaN        6      6.0      NaN        6    2285  \n",
       "2      NaN        6      6.0      NaN        6    2285  \n",
       "3      NaN       12     12.0      NaN       12       0  \n",
       "4      8.0        8      NaN      8.0        8     129  \n",
       "\n",
       "[5 rows x 177 columns]"
      ]
     },
     "execution_count": 3,
     "metadata": {},
     "output_type": "execute_result"
    }
   ],
   "source": [
    "db = pd.read_csv('./data/usu_individual_T421.csv', sep=';', low_memory=False)\n",
    "db.head()"
   ]
  },
  {
   "cell_type": "markdown",
   "id": "56772d9a",
   "metadata": {},
   "source": [
    "Para comprobar que la base de datos se haya incorporado de forma satisfactoria, se lee el atributo `db.shape` con el siguiente comando:"
   ]
  },
  {
   "cell_type": "code",
   "execution_count": 4,
   "id": "df9ef7d4",
   "metadata": {},
   "outputs": [
    {
     "data": {
      "text/plain": [
       "(50154, 177)"
      ]
     },
     "execution_count": 4,
     "metadata": {},
     "output_type": "execute_result"
    }
   ],
   "source": [
    "db.shape"
   ]
  },
  {
   "cell_type": "markdown",
   "id": "0d84f7b8",
   "metadata": {},
   "source": [
    "El comando nos dice que la base de datos, perteneciente al cuarto trimestre de 2021 de la EPH, contiene 177 variables, una en cada columna, y 50.154 mediciones, una en cada fila."
   ]
  },
  {
   "cell_type": "markdown",
   "id": "93dfdc06",
   "metadata": {},
   "source": [
    "La variable `db` contiene a la base de datos completa. Una posibilidad es elegir un _subconjunto_ de columnas, para simplificar la representación gráfica de los datos. Las variables seleccionadas, y sus nombres en la base de datos de la EPH, son:\n",
    "\n",
    "* Ingreso laboral (P21)\n",
    "* Ingreso total individual (P47T)\n",
    "* Horas trabajadas (PP3E_TOT)\n",
    "* Sexo (CH04)\n",
    "\n",
    "Vamos a asignar dichas variables a `df1`."
   ]
  },
  {
   "cell_type": "code",
   "execution_count": 16,
   "id": "f263e0a7",
   "metadata": {},
   "outputs": [
    {
     "data": {
      "text/html": [
       "<div>\n",
       "<style scoped>\n",
       "    .dataframe tbody tr th:only-of-type {\n",
       "        vertical-align: middle;\n",
       "    }\n",
       "\n",
       "    .dataframe tbody tr th {\n",
       "        vertical-align: top;\n",
       "    }\n",
       "\n",
       "    .dataframe thead th {\n",
       "        text-align: right;\n",
       "    }\n",
       "</style>\n",
       "<table border=\"1\" class=\"dataframe\">\n",
       "  <thead>\n",
       "    <tr style=\"text-align: right;\">\n",
       "      <th></th>\n",
       "      <th>CODUSU</th>\n",
       "      <th>NRO_HOGAR</th>\n",
       "      <th>COMPONENTE</th>\n",
       "      <th>ESTADO</th>\n",
       "      <th>P21</th>\n",
       "      <th>P47T</th>\n",
       "      <th>PP3E_TOT</th>\n",
       "      <th>CH04</th>\n",
       "      <th>CH03</th>\n",
       "    </tr>\n",
       "  </thead>\n",
       "  <tbody>\n",
       "    <tr>\n",
       "      <th>0</th>\n",
       "      <td>TQRMNOPPQHMOLPCDEGNFJ00714305</td>\n",
       "      <td>1</td>\n",
       "      <td>4</td>\n",
       "      <td>3</td>\n",
       "      <td>0</td>\n",
       "      <td>0.0</td>\n",
       "      <td>NaN</td>\n",
       "      <td>1</td>\n",
       "      <td>3</td>\n",
       "    </tr>\n",
       "    <tr>\n",
       "      <th>1</th>\n",
       "      <td>TQRMNOQPYHKMPUCDEIJAH00663642</td>\n",
       "      <td>1</td>\n",
       "      <td>1</td>\n",
       "      <td>3</td>\n",
       "      <td>0</td>\n",
       "      <td>35000.0</td>\n",
       "      <td>NaN</td>\n",
       "      <td>1</td>\n",
       "      <td>1</td>\n",
       "    </tr>\n",
       "    <tr>\n",
       "      <th>2</th>\n",
       "      <td>TQRMNOQPYHKMPUCDEIJAH00663642</td>\n",
       "      <td>1</td>\n",
       "      <td>2</td>\n",
       "      <td>3</td>\n",
       "      <td>0</td>\n",
       "      <td>29000.0</td>\n",
       "      <td>NaN</td>\n",
       "      <td>2</td>\n",
       "      <td>2</td>\n",
       "    </tr>\n",
       "    <tr>\n",
       "      <th>3</th>\n",
       "      <td>TQRMNOQYRHMOQRCDEIJAH00718661</td>\n",
       "      <td>1</td>\n",
       "      <td>1</td>\n",
       "      <td>1</td>\n",
       "      <td>-9</td>\n",
       "      <td>-9.0</td>\n",
       "      <td>45.0</td>\n",
       "      <td>1</td>\n",
       "      <td>1</td>\n",
       "    </tr>\n",
       "    <tr>\n",
       "      <th>4</th>\n",
       "      <td>TQRMNOPSTHMMLPCDEFMDB00713515</td>\n",
       "      <td>1</td>\n",
       "      <td>2</td>\n",
       "      <td>3</td>\n",
       "      <td>0</td>\n",
       "      <td>26000.0</td>\n",
       "      <td>NaN</td>\n",
       "      <td>2</td>\n",
       "      <td>2</td>\n",
       "    </tr>\n",
       "  </tbody>\n",
       "</table>\n",
       "</div>"
      ],
      "text/plain": [
       "                          CODUSU  NRO_HOGAR  COMPONENTE  ESTADO  P21     P47T  \\\n",
       "0  TQRMNOPPQHMOLPCDEGNFJ00714305          1           4       3    0      0.0   \n",
       "1  TQRMNOQPYHKMPUCDEIJAH00663642          1           1       3    0  35000.0   \n",
       "2  TQRMNOQPYHKMPUCDEIJAH00663642          1           2       3    0  29000.0   \n",
       "3  TQRMNOQYRHMOQRCDEIJAH00718661          1           1       1   -9     -9.0   \n",
       "4  TQRMNOPSTHMMLPCDEFMDB00713515          1           2       3    0  26000.0   \n",
       "\n",
       "   PP3E_TOT  CH04  CH03  \n",
       "0       NaN     1     3  \n",
       "1       NaN     1     1  \n",
       "2       NaN     2     2  \n",
       "3      45.0     1     1  \n",
       "4       NaN     2     2  "
      ]
     },
     "execution_count": 16,
     "metadata": {},
     "output_type": "execute_result"
    }
   ],
   "source": [
    "df1 = db[['CODUSU', 'NRO_HOGAR', 'COMPONENTE', 'ESTADO', 'P21', 'P47T', 'PP3E_TOT', 'CH04', 'CH03']]\n",
    "df1.head()"
   ]
  },
  {
   "cell_type": "markdown",
   "id": "0f705a76",
   "metadata": {},
   "source": [
    "En la medida en que nos interesan las personas que cuentan con un trabajo, vamos a filtrar en la variable `Estado` aquellas filas que sean iguales a 1, es decir, que traten de personas _ocupadas_. Limpiamos, asímismo, los valores de ingreso laboral menores a 0, entendiendo que probablemente se trate de valores faltantes."
   ]
  },
  {
   "cell_type": "code",
   "execution_count": 17,
   "id": "4f4a5655",
   "metadata": {},
   "outputs": [
    {
     "data": {
      "text/html": [
       "<div>\n",
       "<style scoped>\n",
       "    .dataframe tbody tr th:only-of-type {\n",
       "        vertical-align: middle;\n",
       "    }\n",
       "\n",
       "    .dataframe tbody tr th {\n",
       "        vertical-align: top;\n",
       "    }\n",
       "\n",
       "    .dataframe thead th {\n",
       "        text-align: right;\n",
       "    }\n",
       "</style>\n",
       "<table border=\"1\" class=\"dataframe\">\n",
       "  <thead>\n",
       "    <tr style=\"text-align: right;\">\n",
       "      <th></th>\n",
       "      <th>CODUSU</th>\n",
       "      <th>NRO_HOGAR</th>\n",
       "      <th>COMPONENTE</th>\n",
       "      <th>ESTADO</th>\n",
       "      <th>P21</th>\n",
       "      <th>P47T</th>\n",
       "      <th>PP3E_TOT</th>\n",
       "      <th>CH04</th>\n",
       "      <th>CH03</th>\n",
       "    </tr>\n",
       "  </thead>\n",
       "  <tbody>\n",
       "    <tr>\n",
       "      <th>6</th>\n",
       "      <td>TQRMNOQQSHJMKUCDEHJGH00702130</td>\n",
       "      <td>1</td>\n",
       "      <td>2</td>\n",
       "      <td>1</td>\n",
       "      <td>120000</td>\n",
       "      <td>120000.0</td>\n",
       "      <td>48.0</td>\n",
       "      <td>1</td>\n",
       "      <td>3</td>\n",
       "    </tr>\n",
       "    <tr>\n",
       "      <th>8</th>\n",
       "      <td>TQRMNOPPRHJLKTCDEGNFJ00678218</td>\n",
       "      <td>1</td>\n",
       "      <td>2</td>\n",
       "      <td>1</td>\n",
       "      <td>75000</td>\n",
       "      <td>75000.0</td>\n",
       "      <td>40.0</td>\n",
       "      <td>2</td>\n",
       "      <td>3</td>\n",
       "    </tr>\n",
       "    <tr>\n",
       "      <th>11</th>\n",
       "      <td>TQRMNOPPRHJLKTCDEGNFJ00678218</td>\n",
       "      <td>1</td>\n",
       "      <td>6</td>\n",
       "      <td>1</td>\n",
       "      <td>80000</td>\n",
       "      <td>80000.0</td>\n",
       "      <td>40.0</td>\n",
       "      <td>1</td>\n",
       "      <td>4</td>\n",
       "    </tr>\n",
       "    <tr>\n",
       "      <th>12</th>\n",
       "      <td>TQRMNORSTHKLKSCDEGNFJ00661706</td>\n",
       "      <td>1</td>\n",
       "      <td>1</td>\n",
       "      <td>1</td>\n",
       "      <td>45000</td>\n",
       "      <td>45000.0</td>\n",
       "      <td>40.0</td>\n",
       "      <td>2</td>\n",
       "      <td>1</td>\n",
       "    </tr>\n",
       "    <tr>\n",
       "      <th>15</th>\n",
       "      <td>TQRMNOPSRHKLKTCDEGNFJ00716519</td>\n",
       "      <td>1</td>\n",
       "      <td>1</td>\n",
       "      <td>1</td>\n",
       "      <td>30000</td>\n",
       "      <td>40504.0</td>\n",
       "      <td>70.0</td>\n",
       "      <td>2</td>\n",
       "      <td>1</td>\n",
       "    </tr>\n",
       "  </tbody>\n",
       "</table>\n",
       "</div>"
      ],
      "text/plain": [
       "                           CODUSU  NRO_HOGAR  COMPONENTE  ESTADO     P21  \\\n",
       "6   TQRMNOQQSHJMKUCDEHJGH00702130          1           2       1  120000   \n",
       "8   TQRMNOPPRHJLKTCDEGNFJ00678218          1           2       1   75000   \n",
       "11  TQRMNOPPRHJLKTCDEGNFJ00678218          1           6       1   80000   \n",
       "12  TQRMNORSTHKLKSCDEGNFJ00661706          1           1       1   45000   \n",
       "15  TQRMNOPSRHKLKTCDEGNFJ00716519          1           1       1   30000   \n",
       "\n",
       "        P47T  PP3E_TOT  CH04  CH03  \n",
       "6   120000.0      48.0     1     3  \n",
       "8    75000.0      40.0     2     3  \n",
       "11   80000.0      40.0     1     4  \n",
       "12   45000.0      40.0     2     1  \n",
       "15   40504.0      70.0     2     1  "
      ]
     },
     "execution_count": 17,
     "metadata": {},
     "output_type": "execute_result"
    }
   ],
   "source": [
    "df1 = df1[df1['ESTADO'] == 1]\n",
    "df1 = df1[df1['P21']>0]\n",
    "df1.head()"
   ]
  },
  {
   "cell_type": "code",
   "execution_count": 21,
   "id": "bfd0e5c0",
   "metadata": {},
   "outputs": [
    {
     "data": {
      "text/plain": [
       "(17476, 9)"
      ]
     },
     "execution_count": 21,
     "metadata": {},
     "output_type": "execute_result"
    }
   ],
   "source": [
    "df1.shape"
   ]
  },
  {
   "cell_type": "markdown",
   "id": "3e59d447",
   "metadata": {},
   "source": [
    "Con el `dataframe` delimitado y guardado con el nombre `df1`, ya es posible profundizar en el análisis propiamente estadístico. El práctico propone iniciar el análisis construyendo las tablas de frecuencia de las diferentes variables consideradas, actividad en la que se profundiza en el apartado que sigue."
   ]
  },
  {
   "cell_type": "markdown",
   "id": "25cf85a9",
   "metadata": {},
   "source": [
    "## Análisis de frecuencia"
   ]
  },
  {
   "cell_type": "markdown",
   "id": "87b6adb3",
   "metadata": {},
   "source": [
    "En primer lugar, se construirá la tabla de frecuencia, con el método `value_count()`, considerando la variable Ingreso Laboral (`P21`). Veamos, en primer lugar, sus valores máximos y mínimos, así como los diferentes valores que la misma adquiere."
   ]
  },
  {
   "cell_type": "code",
   "execution_count": 18,
   "id": "e4c969e4",
   "metadata": {},
   "outputs": [
    {
     "data": {
      "text/plain": [
       "300"
      ]
     },
     "execution_count": 18,
     "metadata": {},
     "output_type": "execute_result"
    }
   ],
   "source": [
    "df1.P21.min() # Vemos, en primer lugar, el valor mínimo"
   ]
  },
  {
   "cell_type": "code",
   "execution_count": 19,
   "id": "953c096c",
   "metadata": {},
   "outputs": [
    {
     "data": {
      "text/plain": [
       "4000000"
      ]
     },
     "execution_count": 19,
     "metadata": {},
     "output_type": "execute_result"
    }
   ],
   "source": [
    "df1.P21.max() # Ahora, calculamos el valor máximo"
   ]
  },
  {
   "cell_type": "markdown",
   "id": "0403d5a1",
   "metadata": {},
   "source": [
    "Como se puede ver, la variable Ingreso Laboral (`P21`) va de mediciones de $\\$300$ a mediciones de $\\$4.000.000$. Asimismo, se trata de una variable con muchos valores únicos, a saber:"
   ]
  },
  {
   "cell_type": "code",
   "execution_count": 20,
   "id": "650d551d",
   "metadata": {},
   "outputs": [
    {
     "data": {
      "text/plain": [
       "386"
      ]
     },
     "execution_count": 20,
     "metadata": {},
     "output_type": "execute_result"
    }
   ],
   "source": [
    "len(df1.P21.unique()) # Contamos la cantidad de valores únicos que adquiere la variable P21"
   ]
  },
  {
   "cell_type": "markdown",
   "id": "31913b10",
   "metadata": {},
   "source": [
    "Al tratarse de una variable contínua, de gran amplitud, y con muchos valores únicos, se tomó la decisión de construir una tabla de frecuencia por intervalo. La construcción de los intervalos de clase adoptó, de manera arbitraria, una amplitud de $\\$15.000$, para mostrar la diversidad de situaciones salariales, sin perder atención al detalle, pero concentrando el resto de ingresos laborales por encima de $\\$195.000$, en la última fila."
   ]
  },
  {
   "cell_type": "code",
   "execution_count": 45,
   "id": "0e20f4f1",
   "metadata": {
    "scrolled": false
   },
   "outputs": [
    {
     "data": {
      "text/html": [
       "<div>\n",
       "<style scoped>\n",
       "    .dataframe tbody tr th:only-of-type {\n",
       "        vertical-align: middle;\n",
       "    }\n",
       "\n",
       "    .dataframe tbody tr th {\n",
       "        vertical-align: top;\n",
       "    }\n",
       "\n",
       "    .dataframe thead th {\n",
       "        text-align: right;\n",
       "    }\n",
       "</style>\n",
       "<table border=\"1\" class=\"dataframe\">\n",
       "  <thead>\n",
       "    <tr style=\"text-align: right;\">\n",
       "      <th></th>\n",
       "      <th>Frecuencia</th>\n",
       "      <th>Frecuencia Acumulada</th>\n",
       "    </tr>\n",
       "  </thead>\n",
       "  <tbody>\n",
       "    <tr>\n",
       "      <th>(-0.001, 10000.0]</th>\n",
       "      <td>1643</td>\n",
       "      <td>9.40</td>\n",
       "    </tr>\n",
       "    <tr>\n",
       "      <th>(10000.0, 20000.0]</th>\n",
       "      <td>2767</td>\n",
       "      <td>25.23</td>\n",
       "    </tr>\n",
       "    <tr>\n",
       "      <th>(20000.0, 30000.0]</th>\n",
       "      <td>2659</td>\n",
       "      <td>40.45</td>\n",
       "    </tr>\n",
       "    <tr>\n",
       "      <th>(30000.0, 40000.0]</th>\n",
       "      <td>2385</td>\n",
       "      <td>54.10</td>\n",
       "    </tr>\n",
       "    <tr>\n",
       "      <th>(40000.0, 50000.0]</th>\n",
       "      <td>2122</td>\n",
       "      <td>66.24</td>\n",
       "    </tr>\n",
       "    <tr>\n",
       "      <th>(50000.0, 60000.0]</th>\n",
       "      <td>1588</td>\n",
       "      <td>75.33</td>\n",
       "    </tr>\n",
       "    <tr>\n",
       "      <th>(60000.0, 70000.0]</th>\n",
       "      <td>1193</td>\n",
       "      <td>82.15</td>\n",
       "    </tr>\n",
       "    <tr>\n",
       "      <th>(70000.0, 80000.0]</th>\n",
       "      <td>962</td>\n",
       "      <td>87.66</td>\n",
       "    </tr>\n",
       "    <tr>\n",
       "      <th>(80000.0, 90000.0]</th>\n",
       "      <td>540</td>\n",
       "      <td>90.75</td>\n",
       "    </tr>\n",
       "    <tr>\n",
       "      <th>(90000.0, 100000.0]</th>\n",
       "      <td>612</td>\n",
       "      <td>94.25</td>\n",
       "    </tr>\n",
       "    <tr>\n",
       "      <th>(100000.0, 110000.0]</th>\n",
       "      <td>113</td>\n",
       "      <td>94.90</td>\n",
       "    </tr>\n",
       "    <tr>\n",
       "      <th>(110000.0, 120000.0]</th>\n",
       "      <td>208</td>\n",
       "      <td>96.09</td>\n",
       "    </tr>\n",
       "    <tr>\n",
       "      <th>(120000.0, 130000.0]</th>\n",
       "      <td>95</td>\n",
       "      <td>96.63</td>\n",
       "    </tr>\n",
       "    <tr>\n",
       "      <th>(130000.0, 140000.0]</th>\n",
       "      <td>82</td>\n",
       "      <td>97.10</td>\n",
       "    </tr>\n",
       "    <tr>\n",
       "      <th>(140000.0, 150000.0]</th>\n",
       "      <td>170</td>\n",
       "      <td>98.07</td>\n",
       "    </tr>\n",
       "    <tr>\n",
       "      <th>(150000.0, 160000.0]</th>\n",
       "      <td>47</td>\n",
       "      <td>98.34</td>\n",
       "    </tr>\n",
       "    <tr>\n",
       "      <th>(160000.0, 170000.0]</th>\n",
       "      <td>35</td>\n",
       "      <td>98.54</td>\n",
       "    </tr>\n",
       "    <tr>\n",
       "      <th>(170000.0, 180000.0]</th>\n",
       "      <td>56</td>\n",
       "      <td>98.86</td>\n",
       "    </tr>\n",
       "    <tr>\n",
       "      <th>(180000.0, 190000.0]</th>\n",
       "      <td>199</td>\n",
       "      <td>100.00</td>\n",
       "    </tr>\n",
       "  </tbody>\n",
       "</table>\n",
       "</div>"
      ],
      "text/plain": [
       "                      Frecuencia  Frecuencia Acumulada\n",
       "(-0.001, 10000.0]           1643                  9.40\n",
       "(10000.0, 20000.0]          2767                 25.23\n",
       "(20000.0, 30000.0]          2659                 40.45\n",
       "(30000.0, 40000.0]          2385                 54.10\n",
       "(40000.0, 50000.0]          2122                 66.24\n",
       "(50000.0, 60000.0]          1588                 75.33\n",
       "(60000.0, 70000.0]          1193                 82.15\n",
       "(70000.0, 80000.0]           962                 87.66\n",
       "(80000.0, 90000.0]           540                 90.75\n",
       "(90000.0, 100000.0]          612                 94.25\n",
       "(100000.0, 110000.0]         113                 94.90\n",
       "(110000.0, 120000.0]         208                 96.09\n",
       "(120000.0, 130000.0]          95                 96.63\n",
       "(130000.0, 140000.0]          82                 97.10\n",
       "(140000.0, 150000.0]         170                 98.07\n",
       "(150000.0, 160000.0]          47                 98.34\n",
       "(160000.0, 170000.0]          35                 98.54\n",
       "(170000.0, 180000.0]          56                 98.86\n",
       "(180000.0, 190000.0]         199                100.00"
      ]
     },
     "execution_count": 45,
     "metadata": {},
     "output_type": "execute_result"
    }
   ],
   "source": [
    "bin_range = np.arange(0,200000,10000)\n",
    "freq = np.clip(df1['P21'], bin_range[0], bin_range[-1])\n",
    "\n",
    "freq = freq.value_counts(sort=False,bins = bin_range).to_frame()\n",
    "freq.rename(columns = {'P21':'Frecuencia'}, inplace=True)\n",
    "\n",
    "freq['Frecuencia Acumulada'] = round(freq['Frecuencia'].cumsum()/freq['Frecuencia'].sum()*100, 2)\n",
    "freq"
   ]
  },
  {
   "cell_type": "markdown",
   "id": "1df52937",
   "metadata": {},
   "source": [
    "De la tabla de frecuencia agrupada de la variable Ingreso Laboral se desprende que el $25\\%$ de menores ingresos se encuentra ganando hasta $\\$20.000$; poco más del $50\\%$ se concentra hasta los $\\$40.000$ de ingreso; y un $75\\%$ se encuentra en el sector que llega a $\\$60.000$ de Ingreso Laboral."
   ]
  },
  {
   "cell_type": "markdown",
   "id": "69b73ce5",
   "metadata": {},
   "source": [
    "Esta distribución de frecuencia se puede graficar en un histograma, como se exhibe a continuación."
   ]
  },
  {
   "cell_type": "code",
   "execution_count": 46,
   "id": "0ee547df",
   "metadata": {
    "scrolled": false
   },
   "outputs": [
    {
     "data": {
      "image/png": "[encoded data removed]",
      "text/plain": [
       "<Figure size 1152x432 with 1 Axes>"
      ]
     },
     "metadata": {},
     "output_type": "display_data"
    }
   ],
   "source": [
    "bin_range = np.arange(0,200000,10000) # Defino el límite inferior y superior de cada barra => [i, s)\n",
    "\n",
    "plt.hist(np.clip(df1['P21'], bin_range[0], bin_range[-1]), bins = bin_range) \n",
    "# Le digo plt que quiero un histograma\n",
    "# Con np.clip le pido que tenga de rango inferior el primer elemento de bin_range \n",
    "# y que incluya lo que está por encima del superior\n",
    "\n",
    "plt.xlabel(\"Ingreso Laboral\") # Defino el label del eje x\n",
    "plt.ylabel(\"Frecuencia\") # Defino el label del eje y\n",
    "\n",
    "n_xticks = [x for x in range(0, 200000, 10000)] # creo una lista de número para definir los valores del eje x\n",
    "xticks = [str(x) for x in n_xticks] # creo una lista de strings, con esos mismos números, para los labels del eje x\n",
    "xticks[0] = '' # Saco el 0 por redundante\n",
    "xticks[-1] = '190000+' # Cambio el último componente de la lista agregándole un +\n",
    "\n",
    "plt.suptitle('Ingreso Laboral (P21)', fontsize=20) # Le doy un título al plot, le asigno una fuente de 20p\n",
    "plt.xticks(n_xticks, xticks, rotation=35) # Le asigno los valores creados a los labels del eje x\n",
    "plt.show() # Muestro el plot"
   ]
  }
 ],
 "metadata": {
  "kernelspec": {
   "display_name": "Python 3 (ipykernel)",
   "language": "python",
   "name": "python3"
  },
  "language_info": {
   "codemirror_mode": {
    "name": "ipython",
    "version": 3
   },
   "file_extension": ".py",
   "mimetype": "text/x-python",
   "name": "python",
   "nbconvert_exporter": "python",
   "pygments_lexer": "ipython3",
   "version": "3.9.12"
  }
 },
 "nbformat": 4,
 "nbformat_minor": 5
}
