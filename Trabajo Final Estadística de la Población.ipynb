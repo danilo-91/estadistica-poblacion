{
 "cells": [
  {
   "cell_type": "markdown",
   "id": "36d1dc9b",
   "metadata": {},
   "source": [
    "# Trabajo Final\n",
    "## Estadística de la población\n",
    "---\n",
    "\n",
    "### Docente:\n",
    "### Estudiantes: Tricarico Federico, Ise Daniel"
   ]
  },
  {
   "cell_type": "markdown",
   "id": "8f4444b5",
   "metadata": {},
   "source": [
    "## Introducción\n",
    "\n",
    "El presente informe muestra los resultados a los que llegamos a partir del empleo de métodos estadísticos y la reflexión propia sobre la base de datos de Indec. En particular, consideramos el último período de tiempo disponible [online](https://www.indec.gob.ar/indec/web/Institucional-Indec-BasesDeDatos): el cuarto trimestre de 2021.\n",
    "\n",
    "Sobre esa base de datos, usando herramientas de código abierto como Python, pudimos hacer diferentes análisis estadísticos. Tratamos, en particular, de seleccionar diferentes conjuntos de variables, para tratar de poner a prueba algunas hipótesis que muestran tanto las posibilidad que ofrecen las herramientas estadísticas para el tratamiento de estos problemas, así como la potencialidad que subyace en herramientas de código abierto, como son Python y sus diferentes módulos.\n",
    "\n",
    "El trabajo emplea algunos de los procesamientos vistos en la materia recurriendo a la base de datos mencionada. Parte por la selección de las variables a considerar, se muestran sus tablas de frecuencia y se realizan algunos gráficos sobre sus resultados. Así mismo, se calculan las medidas de tendencia central pertinentes a las diferentes variables. \n",
    "\n",
    "Esbozando algunas hipótesis que vinculan las relaciones entre ingreso laboral por hora trabajada y la variable sexo, se trata de hacer algunos test de significación entre las dos variables, construyendo tanto una hipótesis como una hipótesis nula. Asímismo, se elabora una correlación bivariada y se aplica un análisis de regresión lineal entre las diferentes variables consideradas."
   ]
  },
  {
   "cell_type": "markdown",
   "id": "a23fb162",
   "metadata": {},
   "source": [
    "### Actividades:\n",
    "\n",
    "* ~Elegir una base de datos~\n",
    "* ~Seleccionar dos variables~\n",
    "* Construir tablas de frecuencia\n",
    "* Graficar\n",
    "* Calcular medidas de tendencia central\n",
    "* Aplicar test de significación entre dos variables establecidas (con hipótesis e hipótesis nula)\n",
    "* Elaborar correlación bivariada\n",
    "* Aplicar Regresión lineal\n",
    "\n",
    "#### Base de datos:\n",
    "\n",
    "https://www.indec.gob.ar/ftp/cuadros/menusuperior/eph/EPH_usu_4_Trim_2021_xls.zip\n",
    "\n",
    "#### Variables seleccionadas:\n",
    "\n",
    "* Ingreso laboral (P21)\n",
    "* Ingreso total individual (P47T)\n",
    "* Horas trabajadas (PP3E_TOT)\n",
    "* Sexo (CH04)\n",
    "* Edad (posible) (CH06)\n",
    "\n",
    "#### Indicadores a construir:\n",
    "Ingreso laboral según sexo\n",
    "Ingreso laboral por hora trabajada\n",
    "Ingreso laboral por hora trabajada según sexo\n",
    "(¿Horas trabajadas según nivel de instrucción?\n",
    "\n",
    "#### Tipos de variable: \n",
    "\n",
    "* Contínuas: Ingreso Laboral, Ingreso Total Individual, Horas trabajadas\n",
    "\n",
    "* Cualitativas nominales: Sexo\n",
    "\n",
    "Tabla de frecuencia por intervalo para las contínuas (salvo que las horas se registren discretas).\n",
    "Tabla de frecuencia para sexo (quizá horas también).\n",
    "\n",
    "Gráficos de barra para la representación gráfica de las frecuencias e interpretación. (Las contínuas invitan a hacer histogramas).\n",
    "\n",
    "Medidas de tendencia central para ingreso. Tiene sentido dividir en deciles esta variable.\n",
    "\n",
    "¿Qué es test de significación? ¿Cómo se calcula?\n",
    "\n",
    "Hacer la correlación y regresión lineal."
   ]
  },
  {
   "cell_type": "markdown",
   "id": "59e4d388",
   "metadata": {},
   "source": [
    "Para iniciar el trabajo, primero hay que traer las librerías que vamos a utilizar tanto para leer los datos como para hacer el análisis. Estas librerías son: `numpy`, `pandas` y `matplotlib`."
   ]
  },
  {
   "cell_type": "code",
   "execution_count": 2,
   "id": "73d09e81",
   "metadata": {},
   "outputs": [],
   "source": [
    "import numpy as np\n",
    "import pandas as pd\n",
    "import matplotlib.pyplot as plt"
   ]
  },
  {
   "cell_type": "markdown",
   "id": "de427f91",
   "metadata": {},
   "source": [
    "Entre las diferentes funcionalidades de `pandas`, una de las más interesantes es su capacidad de leer archivos de datos en diferentes formatos. En este caso, la EPH distribuye sus datos, para algunos trimestres, en formato `xlsx`, terminación de los archivos de Excel. Para abrir este archivo, ubicado dentro de la carpeta `./data` utilizamos el siguiente comando:"
   ]
  },
  {
   "cell_type": "code",
   "execution_count": 4,
   "id": "691e49a0",
   "metadata": {},
   "outputs": [
    {
     "data": {
      "text/html": [
       "<div>\n",
       "<style scoped>\n",
       "    .dataframe tbody tr th:only-of-type {\n",
       "        vertical-align: middle;\n",
       "    }\n",
       "\n",
       "    .dataframe tbody tr th {\n",
       "        vertical-align: top;\n",
       "    }\n",
       "\n",
       "    .dataframe thead th {\n",
       "        text-align: right;\n",
       "    }\n",
       "</style>\n",
       "<table border=\"1\" class=\"dataframe\">\n",
       "  <thead>\n",
       "    <tr style=\"text-align: right;\">\n",
       "      <th></th>\n",
       "      <th>CODUSU</th>\n",
       "      <th>ANO4</th>\n",
       "      <th>TRIMESTRE</th>\n",
       "      <th>NRO_HOGAR</th>\n",
       "      <th>COMPONENTE</th>\n",
       "      <th>H15</th>\n",
       "      <th>REGION</th>\n",
       "      <th>MAS_500</th>\n",
       "      <th>AGLOMERADO</th>\n",
       "      <th>PONDERA</th>\n",
       "      <th>...</th>\n",
       "      <th>PDECIFR</th>\n",
       "      <th>ADECIFR</th>\n",
       "      <th>IPCF</th>\n",
       "      <th>DECCFR</th>\n",
       "      <th>IDECCFR</th>\n",
       "      <th>RDECCFR</th>\n",
       "      <th>GDECCFR</th>\n",
       "      <th>PDECCFR</th>\n",
       "      <th>ADECCFR</th>\n",
       "      <th>PONDIH</th>\n",
       "    </tr>\n",
       "  </thead>\n",
       "  <tbody>\n",
       "    <tr>\n",
       "      <th>0</th>\n",
       "      <td>TQRMNOPPQHMOLPCDEGNFJ00714305</td>\n",
       "      <td>2021</td>\n",
       "      <td>4</td>\n",
       "      <td>1</td>\n",
       "      <td>4</td>\n",
       "      <td>1</td>\n",
       "      <td>44</td>\n",
       "      <td>N</td>\n",
       "      <td>17</td>\n",
       "      <td>309</td>\n",
       "      <td>...</td>\n",
       "      <td>9.0</td>\n",
       "      <td>7</td>\n",
       "      <td>33500.0</td>\n",
       "      <td>6</td>\n",
       "      <td>7.0</td>\n",
       "      <td>5</td>\n",
       "      <td>NaN</td>\n",
       "      <td>7.0</td>\n",
       "      <td>5</td>\n",
       "      <td>411</td>\n",
       "    </tr>\n",
       "    <tr>\n",
       "      <th>1</th>\n",
       "      <td>TQRMNOQPYHKMPUCDEIJAH00663642</td>\n",
       "      <td>2021</td>\n",
       "      <td>4</td>\n",
       "      <td>1</td>\n",
       "      <td>1</td>\n",
       "      <td>1</td>\n",
       "      <td>1</td>\n",
       "      <td>S</td>\n",
       "      <td>33</td>\n",
       "      <td>1573</td>\n",
       "      <td>...</td>\n",
       "      <td>NaN</td>\n",
       "      <td>4</td>\n",
       "      <td>32000.0</td>\n",
       "      <td>6</td>\n",
       "      <td>NaN</td>\n",
       "      <td>6</td>\n",
       "      <td>6.0</td>\n",
       "      <td>NaN</td>\n",
       "      <td>6</td>\n",
       "      <td>2285</td>\n",
       "    </tr>\n",
       "    <tr>\n",
       "      <th>2</th>\n",
       "      <td>TQRMNOQPYHKMPUCDEIJAH00663642</td>\n",
       "      <td>2021</td>\n",
       "      <td>4</td>\n",
       "      <td>1</td>\n",
       "      <td>2</td>\n",
       "      <td>1</td>\n",
       "      <td>1</td>\n",
       "      <td>S</td>\n",
       "      <td>33</td>\n",
       "      <td>1573</td>\n",
       "      <td>...</td>\n",
       "      <td>NaN</td>\n",
       "      <td>4</td>\n",
       "      <td>32000.0</td>\n",
       "      <td>6</td>\n",
       "      <td>NaN</td>\n",
       "      <td>6</td>\n",
       "      <td>6.0</td>\n",
       "      <td>NaN</td>\n",
       "      <td>6</td>\n",
       "      <td>2285</td>\n",
       "    </tr>\n",
       "    <tr>\n",
       "      <th>3</th>\n",
       "      <td>TQRMNOQYRHMOQRCDEIJAH00718661</td>\n",
       "      <td>2021</td>\n",
       "      <td>4</td>\n",
       "      <td>1</td>\n",
       "      <td>1</td>\n",
       "      <td>1</td>\n",
       "      <td>1</td>\n",
       "      <td>S</td>\n",
       "      <td>33</td>\n",
       "      <td>2635</td>\n",
       "      <td>...</td>\n",
       "      <td>NaN</td>\n",
       "      <td>12</td>\n",
       "      <td>0.0</td>\n",
       "      <td>12</td>\n",
       "      <td>NaN</td>\n",
       "      <td>12</td>\n",
       "      <td>12.0</td>\n",
       "      <td>NaN</td>\n",
       "      <td>12</td>\n",
       "      <td>0</td>\n",
       "    </tr>\n",
       "    <tr>\n",
       "      <th>4</th>\n",
       "      <td>TQRMNOPSTHMMLPCDEFMDB00713515</td>\n",
       "      <td>2021</td>\n",
       "      <td>4</td>\n",
       "      <td>1</td>\n",
       "      <td>2</td>\n",
       "      <td>1</td>\n",
       "      <td>43</td>\n",
       "      <td>N</td>\n",
       "      <td>6</td>\n",
       "      <td>87</td>\n",
       "      <td>...</td>\n",
       "      <td>7.0</td>\n",
       "      <td>7</td>\n",
       "      <td>43000.0</td>\n",
       "      <td>7</td>\n",
       "      <td>8.0</td>\n",
       "      <td>8</td>\n",
       "      <td>NaN</td>\n",
       "      <td>8.0</td>\n",
       "      <td>8</td>\n",
       "      <td>129</td>\n",
       "    </tr>\n",
       "  </tbody>\n",
       "</table>\n",
       "<p>5 rows × 177 columns</p>\n",
       "</div>"
      ],
      "text/plain": [
       "                          CODUSU  ANO4  TRIMESTRE  NRO_HOGAR  COMPONENTE  H15  \\\n",
       "0  TQRMNOPPQHMOLPCDEGNFJ00714305  2021          4          1           4    1   \n",
       "1  TQRMNOQPYHKMPUCDEIJAH00663642  2021          4          1           1    1   \n",
       "2  TQRMNOQPYHKMPUCDEIJAH00663642  2021          4          1           2    1   \n",
       "3  TQRMNOQYRHMOQRCDEIJAH00718661  2021          4          1           1    1   \n",
       "4  TQRMNOPSTHMMLPCDEFMDB00713515  2021          4          1           2    1   \n",
       "\n",
       "   REGION MAS_500  AGLOMERADO  PONDERA  ...  PDECIFR  ADECIFR     IPCF  \\\n",
       "0      44       N          17      309  ...      9.0        7  33500.0   \n",
       "1       1       S          33     1573  ...      NaN        4  32000.0   \n",
       "2       1       S          33     1573  ...      NaN        4  32000.0   \n",
       "3       1       S          33     2635  ...      NaN       12      0.0   \n",
       "4      43       N           6       87  ...      7.0        7  43000.0   \n",
       "\n",
       "   DECCFR  IDECCFR  RDECCFR  GDECCFR  PDECCFR  ADECCFR  PONDIH  \n",
       "0       6      7.0        5      NaN      7.0        5     411  \n",
       "1       6      NaN        6      6.0      NaN        6    2285  \n",
       "2       6      NaN        6      6.0      NaN        6    2285  \n",
       "3      12      NaN       12     12.0      NaN       12       0  \n",
       "4       7      8.0        8      NaN      8.0        8     129  \n",
       "\n",
       "[5 rows x 177 columns]"
      ]
     },
     "execution_count": 4,
     "metadata": {},
     "output_type": "execute_result"
    }
   ],
   "source": [
    "db = pd.read_excel('./data/usu_individual_T421.xlsx')\n",
    "db.head()"
   ]
  },
  {
   "cell_type": "code",
   "execution_count": 35,
   "id": "df9ef7d4",
   "metadata": {},
   "outputs": [
    {
     "data": {
      "text/plain": [
       "(50154, 177)"
      ]
     },
     "execution_count": 35,
     "metadata": {},
     "output_type": "execute_result"
    }
   ],
   "source": [
    "db.shape"
   ]
  },
  {
   "cell_type": "markdown",
   "id": "93dfdc06",
   "metadata": {},
   "source": [
    "En `db` tenemos, entonces, la base de datos completa. Pero no es con toda la base de datos de la EPH que vamos a trabajar. Necesitaríamos únicamenta las variables:\n",
    "\n",
    "* Ingreso laboral (P21)\n",
    "* Ingreso total individual (P47T)\n",
    "* Horas trabajadas (PP3E_TOT)\n",
    "* Sexo (CH04)\n",
    "* Edad (posible) (CH06)\n",
    "\n",
    "Para ello, vamos a asignar dichas variables a `df1`"
   ]
  },
  {
   "cell_type": "code",
   "execution_count": 29,
   "id": "f263e0a7",
   "metadata": {},
   "outputs": [
    {
     "data": {
      "text/html": [
       "<div>\n",
       "<style scoped>\n",
       "    .dataframe tbody tr th:only-of-type {\n",
       "        vertical-align: middle;\n",
       "    }\n",
       "\n",
       "    .dataframe tbody tr th {\n",
       "        vertical-align: top;\n",
       "    }\n",
       "\n",
       "    .dataframe thead th {\n",
       "        text-align: right;\n",
       "    }\n",
       "</style>\n",
       "<table border=\"1\" class=\"dataframe\">\n",
       "  <thead>\n",
       "    <tr style=\"text-align: right;\">\n",
       "      <th></th>\n",
       "      <th>CODUSU</th>\n",
       "      <th>NRO_HOGAR</th>\n",
       "      <th>COMPONENTE</th>\n",
       "      <th>ESTADO</th>\n",
       "      <th>P21</th>\n",
       "      <th>P47T</th>\n",
       "      <th>PP3E_TOT</th>\n",
       "      <th>CH04</th>\n",
       "      <th>CH03</th>\n",
       "    </tr>\n",
       "  </thead>\n",
       "  <tbody>\n",
       "    <tr>\n",
       "      <th>3</th>\n",
       "      <td>TQRMNOQYRHMOQRCDEIJAH00718661</td>\n",
       "      <td>1</td>\n",
       "      <td>1</td>\n",
       "      <td>1</td>\n",
       "      <td>-9</td>\n",
       "      <td>-9.0</td>\n",
       "      <td>45.0</td>\n",
       "      <td>1</td>\n",
       "      <td>1</td>\n",
       "    </tr>\n",
       "    <tr>\n",
       "      <th>6</th>\n",
       "      <td>TQRMNOQQSHJMKUCDEHJGH00702130</td>\n",
       "      <td>1</td>\n",
       "      <td>2</td>\n",
       "      <td>1</td>\n",
       "      <td>120000</td>\n",
       "      <td>120000.0</td>\n",
       "      <td>48.0</td>\n",
       "      <td>1</td>\n",
       "      <td>3</td>\n",
       "    </tr>\n",
       "    <tr>\n",
       "      <th>8</th>\n",
       "      <td>TQRMNOPPRHJLKTCDEGNFJ00678218</td>\n",
       "      <td>1</td>\n",
       "      <td>2</td>\n",
       "      <td>1</td>\n",
       "      <td>75000</td>\n",
       "      <td>75000.0</td>\n",
       "      <td>40.0</td>\n",
       "      <td>2</td>\n",
       "      <td>3</td>\n",
       "    </tr>\n",
       "    <tr>\n",
       "      <th>11</th>\n",
       "      <td>TQRMNOPPRHJLKTCDEGNFJ00678218</td>\n",
       "      <td>1</td>\n",
       "      <td>6</td>\n",
       "      <td>1</td>\n",
       "      <td>80000</td>\n",
       "      <td>80000.0</td>\n",
       "      <td>40.0</td>\n",
       "      <td>1</td>\n",
       "      <td>4</td>\n",
       "    </tr>\n",
       "    <tr>\n",
       "      <th>12</th>\n",
       "      <td>TQRMNORSTHKLKSCDEGNFJ00661706</td>\n",
       "      <td>1</td>\n",
       "      <td>1</td>\n",
       "      <td>1</td>\n",
       "      <td>45000</td>\n",
       "      <td>45000.0</td>\n",
       "      <td>40.0</td>\n",
       "      <td>2</td>\n",
       "      <td>1</td>\n",
       "    </tr>\n",
       "  </tbody>\n",
       "</table>\n",
       "</div>"
      ],
      "text/plain": [
       "                           CODUSU  NRO_HOGAR  COMPONENTE  ESTADO     P21  \\\n",
       "3   TQRMNOQYRHMOQRCDEIJAH00718661          1           1       1      -9   \n",
       "6   TQRMNOQQSHJMKUCDEHJGH00702130          1           2       1  120000   \n",
       "8   TQRMNOPPRHJLKTCDEGNFJ00678218          1           2       1   75000   \n",
       "11  TQRMNOPPRHJLKTCDEGNFJ00678218          1           6       1   80000   \n",
       "12  TQRMNORSTHKLKSCDEGNFJ00661706          1           1       1   45000   \n",
       "\n",
       "        P47T  PP3E_TOT  CH04  CH03  \n",
       "3       -9.0      45.0     1     1  \n",
       "6   120000.0      48.0     1     3  \n",
       "8    75000.0      40.0     2     3  \n",
       "11   80000.0      40.0     1     4  \n",
       "12   45000.0      40.0     2     1  "
      ]
     },
     "execution_count": 29,
     "metadata": {},
     "output_type": "execute_result"
    }
   ],
   "source": [
    "df1 = db[['CODUSU', 'NRO_HOGAR', 'COMPONENTE', 'ESTADO',\n",
    "        'P21', 'P47T', 'PP3E_TOT', 'CH04', 'CH03']]\n",
    "df1 = df1[df1['ESTADO'] == 1]\n",
    "df1.head()"
   ]
  },
  {
   "cell_type": "markdown",
   "id": "87b6adb3",
   "metadata": {},
   "source": [
    "Una vez delimitado el `dataframe` con el que vamos a trabajar, se procede a hacer una tabla de frecuencia del mismo, con el método `value_count()`. En este caso, lo hacemos sobre la variable Ingreso Laboral (`P21`)"
   ]
  },
  {
   "cell_type": "code",
   "execution_count": 31,
   "id": "0e20f4f1",
   "metadata": {},
   "outputs": [
    {
     "data": {
      "text/plain": [
       "P21    \n",
       "30000      1250\n",
       "40000      1188\n",
       "50000      1111\n",
       "60000      1057\n",
       "20000       972\n",
       "           ... \n",
       "41600         1\n",
       "41700         1\n",
       "42800         1\n",
       "43300         1\n",
       "4000000       1\n",
       "Length: 386, dtype: int64"
      ]
     },
     "execution_count": 31,
     "metadata": {},
     "output_type": "execute_result"
    }
   ],
   "source": [
    "df1.loc[df1['P21']>0,['P21']].value_counts()"
   ]
  },
  {
   "cell_type": "code",
   "execution_count": 32,
   "id": "947afe70",
   "metadata": {},
   "outputs": [
    {
     "data": {
      "text/html": [
       "<div>\n",
       "<style scoped>\n",
       "    .dataframe tbody tr th:only-of-type {\n",
       "        vertical-align: middle;\n",
       "    }\n",
       "\n",
       "    .dataframe tbody tr th {\n",
       "        vertical-align: top;\n",
       "    }\n",
       "\n",
       "    .dataframe thead th {\n",
       "        text-align: right;\n",
       "    }\n",
       "</style>\n",
       "<table border=\"1\" class=\"dataframe\">\n",
       "  <thead>\n",
       "    <tr style=\"text-align: right;\">\n",
       "      <th></th>\n",
       "      <th>P21</th>\n",
       "    </tr>\n",
       "  </thead>\n",
       "  <tbody>\n",
       "    <tr>\n",
       "      <th>count</th>\n",
       "      <td>1.747600e+04</td>\n",
       "    </tr>\n",
       "    <tr>\n",
       "      <th>mean</th>\n",
       "      <td>4.832113e+04</td>\n",
       "    </tr>\n",
       "    <tr>\n",
       "      <th>std</th>\n",
       "      <td>5.182329e+04</td>\n",
       "    </tr>\n",
       "    <tr>\n",
       "      <th>min</th>\n",
       "      <td>3.000000e+02</td>\n",
       "    </tr>\n",
       "    <tr>\n",
       "      <th>25%</th>\n",
       "      <td>2.000000e+04</td>\n",
       "    </tr>\n",
       "    <tr>\n",
       "      <th>50%</th>\n",
       "      <td>4.000000e+04</td>\n",
       "    </tr>\n",
       "    <tr>\n",
       "      <th>75%</th>\n",
       "      <td>6.000000e+04</td>\n",
       "    </tr>\n",
       "    <tr>\n",
       "      <th>max</th>\n",
       "      <td>4.000000e+06</td>\n",
       "    </tr>\n",
       "  </tbody>\n",
       "</table>\n",
       "</div>"
      ],
      "text/plain": [
       "                P21\n",
       "count  1.747600e+04\n",
       "mean   4.832113e+04\n",
       "std    5.182329e+04\n",
       "min    3.000000e+02\n",
       "25%    2.000000e+04\n",
       "50%    4.000000e+04\n",
       "75%    6.000000e+04\n",
       "max    4.000000e+06"
      ]
     },
     "execution_count": 32,
     "metadata": {},
     "output_type": "execute_result"
    }
   ],
   "source": [
    "df1.loc[df1['P21']>0,['P21']].describe()"
   ]
  },
  {
   "cell_type": "markdown",
   "id": "69b73ce5",
   "metadata": {},
   "source": [
    "Para observar la distribución de la frecuencia de esta variable, puede ser útil graficar un histograma de frecuencia:"
   ]
  },
  {
   "cell_type": "code",
   "execution_count": 34,
   "id": "05154b4d",
   "metadata": {},
   "outputs": [
    {
     "data": {
      "text/plain": [
       "<AxesSubplot:ylabel='Frequency'>"
      ]
     },
     "execution_count": 34,
     "metadata": {},
     "output_type": "execute_result"
    },
    {
     "data": {
      "image/png": "[encoded data removed]",
      "text/plain": [
       "<Figure size 1152x576 with 1 Axes>"
      ]
     },
     "metadata": {
      "needs_background": "light"
     },
     "output_type": "display_data"
    }
   ],
   "source": [
    "df1.loc[df1['P21']>0,['P21']].value_counts().plot(kind='hist', figsize=(16,8))"
   ]
  },
  {
   "cell_type": "markdown",
   "id": "dfa46b1b",
   "metadata": {},
   "source": [
    "La distribución de la variable muestra una sobrerrepresentación de las personas con ingreso en torno a 0. Para resolver este problema, una de las posibilidades consiste en excluir los valores en torno a 0 y ver qué pasa."
   ]
  }
 ],
 "metadata": {
  "kernelspec": {
   "display_name": "Python 3 (ipykernel)",
   "language": "python",
   "name": "python3"
  },
  "language_info": {
   "codemirror_mode": {
    "name": "ipython",
    "version": 3
   },
   "file_extension": ".py",
   "mimetype": "text/x-python",
   "name": "python",
   "nbconvert_exporter": "python",
   "pygments_lexer": "ipython3",
   "version": "3.9.12"
  }
 },
 "nbformat": 4,
 "nbformat_minor": 5
}
